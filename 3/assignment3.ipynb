{
  "nbformat": 4,
  "nbformat_minor": 0,
  "metadata": {
    "colab": {
      "name": "assignment3.ipynb",
      "provenance": [],
      "collapsed_sections": []
    },
    "kernelspec": {
      "name": "python3",
      "display_name": "Python 3"
    },
    "language_info": {
      "name": "python"
    }
  },
  "cells": [
    {
      "cell_type": "code",
      "execution_count": 3,
      "metadata": {
        "id": "oXc4wcTKYqMF"
      },
      "outputs": [],
      "source": [
        "# Importing the libraries\n",
        "import numpy as np               # used for handling numbers\n",
        "import pandas as pd              # used for handling the dataset\n",
        "import matplotlib.pyplot as plt  # used for plotting graphs\n"
      ]
    },
    {
      "cell_type": "code",
      "source": [
        "# copy load_iris() dataset into iris\n",
        "data_set = pd.read_csv(\"data3.csv\")"
      ],
      "metadata": {
        "id": "xbWkRtr0Zv83"
      },
      "execution_count": 4,
      "outputs": []
    },
    {
      "cell_type": "code",
      "source": [
        "# Load Dataset\n",
        "data_set"
      ],
      "metadata": {
        "colab": {
          "base_uri": "https://localhost:8080/",
          "height": 424
        },
        "id": "v-26AizmbLOO",
        "outputId": "e052cfa1-5d82-40bd-ff82-903cf7ccd5d2"
      },
      "execution_count": 31,
      "outputs": [
        {
          "output_type": "execute_result",
          "data": {
            "text/html": [
              "\n",
              "  <div id=\"df-8def407a-8ab8-42c6-920e-664764be3e32\">\n",
              "    <div class=\"colab-df-container\">\n",
              "      <div>\n",
              "<style scoped>\n",
              "    .dataframe tbody tr th:only-of-type {\n",
              "        vertical-align: middle;\n",
              "    }\n",
              "\n",
              "    .dataframe tbody tr th {\n",
              "        vertical-align: top;\n",
              "    }\n",
              "\n",
              "    .dataframe thead th {\n",
              "        text-align: right;\n",
              "    }\n",
              "</style>\n",
              "<table border=\"1\" class=\"dataframe\">\n",
              "  <thead>\n",
              "    <tr style=\"text-align: right;\">\n",
              "      <th></th>\n",
              "      <th>Sepal Length</th>\n",
              "      <th>Sepal Width</th>\n",
              "      <th>Petal Length</th>\n",
              "      <th>Petal Width</th>\n",
              "      <th>Species</th>\n",
              "      <th>Other</th>\n",
              "    </tr>\n",
              "  </thead>\n",
              "  <tbody>\n",
              "    <tr>\n",
              "      <th>0</th>\n",
              "      <td>5.1</td>\n",
              "      <td>3.5</td>\n",
              "      <td>1.4</td>\n",
              "      <td>0.2</td>\n",
              "      <td>Iris-setosa</td>\n",
              "      <td>1</td>\n",
              "    </tr>\n",
              "    <tr>\n",
              "      <th>1</th>\n",
              "      <td>4.9</td>\n",
              "      <td>3.0</td>\n",
              "      <td>1.4</td>\n",
              "      <td>0.2</td>\n",
              "      <td>Iris-setosa</td>\n",
              "      <td>2</td>\n",
              "    </tr>\n",
              "    <tr>\n",
              "      <th>2</th>\n",
              "      <td>4.7</td>\n",
              "      <td>3.2</td>\n",
              "      <td>1.3</td>\n",
              "      <td>0.2</td>\n",
              "      <td>Iris-setosa</td>\n",
              "      <td>3</td>\n",
              "    </tr>\n",
              "    <tr>\n",
              "      <th>3</th>\n",
              "      <td>4.6</td>\n",
              "      <td>3.1</td>\n",
              "      <td>1.5</td>\n",
              "      <td>0.2</td>\n",
              "      <td>Iris-setosa</td>\n",
              "      <td>4</td>\n",
              "    </tr>\n",
              "    <tr>\n",
              "      <th>4</th>\n",
              "      <td>5.0</td>\n",
              "      <td>3.6</td>\n",
              "      <td>1.4</td>\n",
              "      <td>0.2</td>\n",
              "      <td>Iris-setosa</td>\n",
              "      <td>5</td>\n",
              "    </tr>\n",
              "    <tr>\n",
              "      <th>...</th>\n",
              "      <td>...</td>\n",
              "      <td>...</td>\n",
              "      <td>...</td>\n",
              "      <td>...</td>\n",
              "      <td>...</td>\n",
              "      <td>...</td>\n",
              "    </tr>\n",
              "    <tr>\n",
              "      <th>145</th>\n",
              "      <td>6.7</td>\n",
              "      <td>3.0</td>\n",
              "      <td>5.2</td>\n",
              "      <td>2.3</td>\n",
              "      <td>Iris-virginica</td>\n",
              "      <td>146</td>\n",
              "    </tr>\n",
              "    <tr>\n",
              "      <th>146</th>\n",
              "      <td>6.3</td>\n",
              "      <td>2.5</td>\n",
              "      <td>5.0</td>\n",
              "      <td>1.9</td>\n",
              "      <td>Iris-virginica</td>\n",
              "      <td>147</td>\n",
              "    </tr>\n",
              "    <tr>\n",
              "      <th>147</th>\n",
              "      <td>6.5</td>\n",
              "      <td>3.0</td>\n",
              "      <td>5.2</td>\n",
              "      <td>2.0</td>\n",
              "      <td>Iris-virginica</td>\n",
              "      <td>148</td>\n",
              "    </tr>\n",
              "    <tr>\n",
              "      <th>148</th>\n",
              "      <td>6.2</td>\n",
              "      <td>3.4</td>\n",
              "      <td>5.4</td>\n",
              "      <td>2.3</td>\n",
              "      <td>Iris-virginica</td>\n",
              "      <td>149</td>\n",
              "    </tr>\n",
              "    <tr>\n",
              "      <th>149</th>\n",
              "      <td>5.9</td>\n",
              "      <td>3.0</td>\n",
              "      <td>5.1</td>\n",
              "      <td>1.8</td>\n",
              "      <td>Iris-virginica</td>\n",
              "      <td>150</td>\n",
              "    </tr>\n",
              "  </tbody>\n",
              "</table>\n",
              "<p>150 rows × 6 columns</p>\n",
              "</div>\n",
              "      <button class=\"colab-df-convert\" onclick=\"convertToInteractive('df-8def407a-8ab8-42c6-920e-664764be3e32')\"\n",
              "              title=\"Convert this dataframe to an interactive table.\"\n",
              "              style=\"display:none;\">\n",
              "        \n",
              "  <svg xmlns=\"http://www.w3.org/2000/svg\" height=\"24px\"viewBox=\"0 0 24 24\"\n",
              "       width=\"24px\">\n",
              "    <path d=\"M0 0h24v24H0V0z\" fill=\"none\"/>\n",
              "    <path d=\"M18.56 5.44l.94 2.06.94-2.06 2.06-.94-2.06-.94-.94-2.06-.94 2.06-2.06.94zm-11 1L8.5 8.5l.94-2.06 2.06-.94-2.06-.94L8.5 2.5l-.94 2.06-2.06.94zm10 10l.94 2.06.94-2.06 2.06-.94-2.06-.94-.94-2.06-.94 2.06-2.06.94z\"/><path d=\"M17.41 7.96l-1.37-1.37c-.4-.4-.92-.59-1.43-.59-.52 0-1.04.2-1.43.59L10.3 9.45l-7.72 7.72c-.78.78-.78 2.05 0 2.83L4 21.41c.39.39.9.59 1.41.59.51 0 1.02-.2 1.41-.59l7.78-7.78 2.81-2.81c.8-.78.8-2.07 0-2.86zM5.41 20L4 18.59l7.72-7.72 1.47 1.35L5.41 20z\"/>\n",
              "  </svg>\n",
              "      </button>\n",
              "      \n",
              "  <style>\n",
              "    .colab-df-container {\n",
              "      display:flex;\n",
              "      flex-wrap:wrap;\n",
              "      gap: 12px;\n",
              "    }\n",
              "\n",
              "    .colab-df-convert {\n",
              "      background-color: #E8F0FE;\n",
              "      border: none;\n",
              "      border-radius: 50%;\n",
              "      cursor: pointer;\n",
              "      display: none;\n",
              "      fill: #1967D2;\n",
              "      height: 32px;\n",
              "      padding: 0 0 0 0;\n",
              "      width: 32px;\n",
              "    }\n",
              "\n",
              "    .colab-df-convert:hover {\n",
              "      background-color: #E2EBFA;\n",
              "      box-shadow: 0px 1px 2px rgba(60, 64, 67, 0.3), 0px 1px 3px 1px rgba(60, 64, 67, 0.15);\n",
              "      fill: #174EA6;\n",
              "    }\n",
              "\n",
              "    [theme=dark] .colab-df-convert {\n",
              "      background-color: #3B4455;\n",
              "      fill: #D2E3FC;\n",
              "    }\n",
              "\n",
              "    [theme=dark] .colab-df-convert:hover {\n",
              "      background-color: #434B5C;\n",
              "      box-shadow: 0px 1px 3px 1px rgba(0, 0, 0, 0.15);\n",
              "      filter: drop-shadow(0px 1px 2px rgba(0, 0, 0, 0.3));\n",
              "      fill: #FFFFFF;\n",
              "    }\n",
              "  </style>\n",
              "\n",
              "      <script>\n",
              "        const buttonEl =\n",
              "          document.querySelector('#df-8def407a-8ab8-42c6-920e-664764be3e32 button.colab-df-convert');\n",
              "        buttonEl.style.display =\n",
              "          google.colab.kernel.accessAllowed ? 'block' : 'none';\n",
              "\n",
              "        async function convertToInteractive(key) {\n",
              "          const element = document.querySelector('#df-8def407a-8ab8-42c6-920e-664764be3e32');\n",
              "          const dataTable =\n",
              "            await google.colab.kernel.invokeFunction('convertToInteractive',\n",
              "                                                     [key], {});\n",
              "          if (!dataTable) return;\n",
              "\n",
              "          const docLinkHtml = 'Like what you see? Visit the ' +\n",
              "            '<a target=\"_blank\" href=https://colab.research.google.com/notebooks/data_table.ipynb>data table notebook</a>'\n",
              "            + ' to learn more about interactive tables.';\n",
              "          element.innerHTML = '';\n",
              "          dataTable['output_type'] = 'display_data';\n",
              "          await google.colab.output.renderOutput(dataTable, element);\n",
              "          const docLink = document.createElement('div');\n",
              "          docLink.innerHTML = docLinkHtml;\n",
              "          element.appendChild(docLink);\n",
              "        }\n",
              "      </script>\n",
              "    </div>\n",
              "  </div>\n",
              "  "
            ],
            "text/plain": [
              "     Sepal Length  Sepal Width  Petal Length  Petal Width         Species  \\\n",
              "0             5.1          3.5           1.4          0.2     Iris-setosa   \n",
              "1             4.9          3.0           1.4          0.2     Iris-setosa   \n",
              "2             4.7          3.2           1.3          0.2     Iris-setosa   \n",
              "3             4.6          3.1           1.5          0.2     Iris-setosa   \n",
              "4             5.0          3.6           1.4          0.2     Iris-setosa   \n",
              "..            ...          ...           ...          ...             ...   \n",
              "145           6.7          3.0           5.2          2.3  Iris-virginica   \n",
              "146           6.3          2.5           5.0          1.9  Iris-virginica   \n",
              "147           6.5          3.0           5.2          2.0  Iris-virginica   \n",
              "148           6.2          3.4           5.4          2.3  Iris-virginica   \n",
              "149           5.9          3.0           5.1          1.8  Iris-virginica   \n",
              "\n",
              "     Other  \n",
              "0        1  \n",
              "1        2  \n",
              "2        3  \n",
              "3        4  \n",
              "4        5  \n",
              "..     ...  \n",
              "145    146  \n",
              "146    147  \n",
              "147    148  \n",
              "148    149  \n",
              "149    150  \n",
              "\n",
              "[150 rows x 6 columns]"
            ]
          },
          "metadata": {},
          "execution_count": 31
        }
      ]
    },
    {
      "cell_type": "code",
      "source": [
        "# Complete information of all attributes of Iris\n",
        "print('\\n', 'DATA SET INFORMATION'.center(45, '_'))\n",
        "print(data_set.info())"
      ],
      "metadata": {
        "colab": {
          "base_uri": "https://localhost:8080/"
        },
        "id": "6DtaDR2aZwbT",
        "outputId": "1cae77e2-4238-4299-8801-303ff97c16d1"
      },
      "execution_count": 5,
      "outputs": [
        {
          "output_type": "stream",
          "name": "stdout",
          "text": [
            "\n",
            " _____________DATA SET INFORMATION____________\n",
            "<class 'pandas.core.frame.DataFrame'>\n",
            "RangeIndex: 150 entries, 0 to 149\n",
            "Data columns (total 6 columns):\n",
            " #   Column        Non-Null Count  Dtype  \n",
            "---  ------        --------------  -----  \n",
            " 0   Sepal Length  150 non-null    float64\n",
            " 1   Sepal Width   150 non-null    float64\n",
            " 2   Petal Length  150 non-null    float64\n",
            " 3   Petal Width   150 non-null    float64\n",
            " 4   Species       150 non-null    object \n",
            " 5   Other         150 non-null    int64  \n",
            "dtypes: float64(4), int64(1), object(1)\n",
            "memory usage: 7.2+ KB\n",
            "None\n"
          ]
        }
      ]
    },
    {
      "cell_type": "code",
      "source": [
        "# Description with Statistics of Iris Dataset\n",
        "print('\\n', 'STATISTICAL INFORMATION'.center(45, '_'))\n",
        "print(data_set.describe())"
      ],
      "metadata": {
        "colab": {
          "base_uri": "https://localhost:8080/"
        },
        "id": "t1ZG4bCbZwk8",
        "outputId": "464d5f7e-5191-4c1c-b4ab-cd98dc31e4c6"
      },
      "execution_count": 6,
      "outputs": [
        {
          "output_type": "stream",
          "name": "stdout",
          "text": [
            "\n",
            " ___________STATISTICAL INFORMATION___________\n",
            "       Sepal Length  Sepal Width  Petal Length  Petal Width       Other\n",
            "count    150.000000   150.000000    150.000000   150.000000  150.000000\n",
            "mean       5.843333     3.054000      3.758667     1.198667   75.500000\n",
            "std        0.828066     0.433594      1.764420     0.763161   43.445368\n",
            "min        4.300000     2.000000      1.000000     0.100000    1.000000\n",
            "25%        5.100000     2.800000      1.600000     0.300000   38.250000\n",
            "50%        5.800000     3.000000      4.350000     1.300000   75.500000\n",
            "75%        6.400000     3.300000      5.100000     1.800000  112.750000\n",
            "max        7.900000     4.400000      6.900000     2.500000  150.000000\n"
          ]
        }
      ]
    },
    {
      "cell_type": "code",
      "source": [
        "# list of elements to calculate mean\n",
        "n_num = [1, 2, 3, 4, 5]\n",
        "n = len(n_num)\n",
        "  \n",
        "get_sum = sum(n_num)\n",
        "mean = get_sum / n\n",
        "  \n",
        "print(\"Mean / Average is: \" + str(mean))"
      ],
      "metadata": {
        "colab": {
          "base_uri": "https://localhost:8080/"
        },
        "id": "Lw4DDnK7C1rl",
        "outputId": "85259bb9-4021-48cb-c2bc-7cff8de1b7d5"
      },
      "execution_count": 7,
      "outputs": [
        {
          "output_type": "stream",
          "name": "stdout",
          "text": [
            "Mean / Average is: 3.0\n"
          ]
        }
      ]
    },
    {
      "cell_type": "code",
      "source": [
        "# using mean\n",
        "n_num = data_set['Sepal Length']\n",
        "n = len(n_num)\n",
        "  \n",
        "get_sum = sum(n_num)\n",
        "mean = get_sum / n\n",
        "  \n",
        "print(\"Mean / Average is: \" + str(mean))\n"
      ],
      "metadata": {
        "id": "a47ClabOhVLT",
        "colab": {
          "base_uri": "https://localhost:8080/"
        },
        "outputId": "bd102282-0888-4496-a884-34764dd4cddd"
      },
      "execution_count": 26,
      "outputs": [
        {
          "output_type": "stream",
          "name": "stdout",
          "text": [
            "Mean / Average is: 5.843333333333335\n"
          ]
        }
      ]
    },
    {
      "cell_type": "code",
      "source": [
        "# list of elements to calculate median\n",
        "n_num = [1, 2, 3, 4, 5]\n",
        "n = len(n_num)\n",
        "n_num.sort()\n",
        "\n",
        "if n % 2 == 0:\n",
        "\tmedian1 = n_num[n//2]\n",
        "\tmedian2 = n_num[n//2 - 1]\n",
        "\tmedian = (median1 + median2)/2\n",
        "else:\n",
        "\tmedian = n_num[n//2]\n",
        "print(\"Median is: \" + str(median))\n"
      ],
      "metadata": {
        "colab": {
          "base_uri": "https://localhost:8080/"
        },
        "id": "PgQ7Weu9E0FW",
        "outputId": "d65793c8-8c50-4f7a-c5bd-1b94e64f1db8"
      },
      "execution_count": 28,
      "outputs": [
        {
          "output_type": "stream",
          "name": "stdout",
          "text": [
            "Median is: 3\n"
          ]
        }
      ]
    },
    {
      "cell_type": "code",
      "source": [
        "# list of elements to calculate median\n",
        "n_num = data_set['Sepal Length']\n",
        "n = len(n_num)\n",
        "n_num.sort_values()\n",
        "\n",
        "if n % 2 == 0:\n",
        "\tmedian1 = n_num[n//2]\n",
        "\tmedian2 = n_num[n//2 - 1]\n",
        "\tmedian = (median1 + median2)/2\n",
        "else:\n",
        "\tmedian = n_num[n//2]\n",
        "print(\"Median is: \" + str(median))\n"
      ],
      "metadata": {
        "colab": {
          "base_uri": "https://localhost:8080/"
        },
        "id": "Ovbc3T0qE0ci",
        "outputId": "0a355753-6c63-47ab-f12b-60c4196cbda8"
      },
      "execution_count": 8,
      "outputs": [
        {
          "output_type": "stream",
          "name": "stdout",
          "text": [
            "Median is: 6.5\n"
          ]
        }
      ]
    },
    {
      "cell_type": "code",
      "source": [
        ""
      ],
      "metadata": {
        "id": "GFw4o77nKM4I"
      },
      "execution_count": null,
      "outputs": []
    },
    {
      "cell_type": "code",
      "source": [
        "# The list for which you need to find the Mode\n",
        "y= [11, 8, 8, 3, 4, 4, 5, 6, 6, 6, 7, 8]\n",
        "\n",
        "# First you sort it. You will get numbers arranged from 3 to 11 in asc order\n",
        "y.sort()\n",
        "\n",
        "# Now open an empty list. count the occurrence of each number and append to add your findings to) L1\n",
        "L1=[]\n",
        "\n",
        "# counting the occurrence of each number, using the following code\n",
        "\n",
        "i = 0\n",
        "while i < len(y) :\n",
        "\tL1.append(y.count(y[i]))\n",
        "\ti += 1\n",
        "\n",
        "# your L1 will be [1, 2, 2, 1, 3, 3, 3, 1, 3, 3, 3, 1],\n",
        "# now you can create a custom dictionary d1 for k : V  where k = your values in sorted y and v = the occurrences of each value in y\n",
        "\n",
        "d1 = dict(zip(y, L1))\n",
        "\n",
        "# your d1 will be {3: 1, 4: 2, 5: 1, 6: 3, 7: 1, 8: 3, 11: 1} now what you need to do is to filter\n",
        "# the k values with the highest v values. do this with the following code\n",
        "\n",
        "d2={k for (k,v) in d1.items() if v == max(L1) }\n",
        "\n",
        "print(\"Mode(s) is/are :\" + str(d2))\n"
      ],
      "metadata": {
        "colab": {
          "base_uri": "https://localhost:8080/"
        },
        "id": "r9knqsjDOUom",
        "outputId": "208245c7-ecf3-4237-9239-290faacda3a1"
      },
      "execution_count": 13,
      "outputs": [
        {
          "output_type": "stream",
          "name": "stdout",
          "text": [
            "Mode(s) is/are :{8, 6}\n"
          ]
        }
      ]
    },
    {
      "cell_type": "code",
      "source": [
        "# The list for which you need to find the Mode\n",
        "y= data_set['Petal Length']\n",
        "\n",
        "y.sort_values()\n",
        "\n",
        "# Now open an empty list. count the occurrence of each number and append to add your findings to) L1\n",
        "L1=[]\n",
        "\n",
        "# counting the occurrence of each number, using the following code\n",
        "\n",
        "i = 0\n",
        "while i < len(y) :\n",
        "\tL1.append(y.value_counts(y[i]))   \n",
        "\ti += 1\n",
        "\n",
        "# your L1 will be [1, 2, 2, 1, 3, 3, 3, 1, 3, 3, 3, 1],\n",
        "# now you can create a custom dictionary d1 for k : V  where k = your values in sorted y and v = the occurrences of each value in y\n",
        "\n",
        "d1 = dict(zip(y, L1))\n",
        "\n",
        "# your d1 will be {3: 1, 4: 2, 5: 1, 6: 3, 7: 1, 8: 3, 11: 1} now what you need to do is to filter\n",
        "# the k values with the highest v values. do this with the following code\n",
        "d3 = d1.items()\n",
        "d2 = { k for (k,v) in d3 if v == max(L1) }\n",
        "\n",
        "print(\"Mode(s) is/are :\" + str(d2))\n"
      ],
      "metadata": {
        "id": "25hJIm16K0sc"
      },
      "execution_count": null,
      "outputs": []
    },
    {
      "cell_type": "code",
      "source": [
        "# Standard deviation of list Using sum() + list comprehension\n",
        "\n",
        "# initializing list\n",
        "test_list = [4, 5, 8, 9, 10]\n",
        "\n",
        "# printing list\n",
        "print(\"The original list : \" + str(test_list))\n",
        "\n",
        "# Standard deviation of list Using sum() + list comprehension\n",
        "mean = sum(test_list) / len(test_list)\n",
        "variance = sum([((x - mean) ** 2) for x in test_list]) / len(test_list)\n",
        "res = variance ** 0.5\n",
        "\n",
        "# Printing result\n",
        "print(\"Standard deviation of sample is : \" + str(res))\n"
      ],
      "metadata": {
        "colab": {
          "base_uri": "https://localhost:8080/"
        },
        "id": "c_uc84BjRPKa",
        "outputId": "efbf2550-428e-4d4e-8acc-8a355194c546"
      },
      "execution_count": 43,
      "outputs": [
        {
          "output_type": "stream",
          "name": "stdout",
          "text": [
            "The original list : [4, 5, 8, 9, 10]\n",
            "Standard deviation of sample is : 2.3151673805580453\n"
          ]
        }
      ]
    },
    {
      "cell_type": "code",
      "source": [
        "# Standard deviation of list Using sum() + list comprehension\n",
        "\n",
        "# initializing list\n",
        "test_list = data_set['Petal Length']\n",
        "\n",
        "# printing list\n",
        "print(\"The original list : \" + str(test_list))\n",
        "\n",
        "# Standard deviation of list Using sum() + list comprehension\n",
        "mean = sum(test_list) / len(test_list)\n",
        "variance = sum([((x - mean) ** 2) for x in test_list]) / len(test_list)\n",
        "res = variance ** 0.5\n",
        "\n",
        "# Printing result\n",
        "print(\"Standard deviation of sample is : \" + str(res))\n"
      ],
      "metadata": {
        "colab": {
          "base_uri": "https://localhost:8080/"
        },
        "id": "MEZsNbwRCdZ6",
        "outputId": "3fe2fbc3-a78c-46d1-dec2-c64ce61c8e97"
      },
      "execution_count": 44,
      "outputs": [
        {
          "output_type": "stream",
          "name": "stdout",
          "text": [
            "The original list : 0      1.4\n",
            "1      1.4\n",
            "2      1.3\n",
            "3      1.5\n",
            "4      1.4\n",
            "      ... \n",
            "145    5.2\n",
            "146    5.0\n",
            "147    5.2\n",
            "148    5.4\n",
            "149    5.1\n",
            "Name: Petal Length, Length: 150, dtype: float64\n",
            "Standard deviation of sample is : 1.7585291834055201\n"
          ]
        }
      ]
    },
    {
      "cell_type": "code",
      "source": [
        "print('The smallest number from Petal Length is:',min(data_set['Petal Length']))\n",
        "print('The largest number from Petal Length is:',max(data_set['Petal Length']))"
      ],
      "metadata": {
        "colab": {
          "base_uri": "https://localhost:8080/"
        },
        "id": "JVAPjNVPEW8V",
        "outputId": "2f7f1c91-e577-4c8f-a8c2-05408e51baf9"
      },
      "execution_count": 45,
      "outputs": [
        {
          "output_type": "stream",
          "name": "stdout",
          "text": [
            "The smallest number from Petal Length is: 1.0\n",
            "The largest number from Petal Length is: 6.9\n"
          ]
        }
      ]
    },
    {
      "cell_type": "code",
      "source": [
        "# Plotting Histogram\n",
        "# #1 All Features\n",
        "data_set[['Sepal Length',  'Sepal Width',  'Petal Length',  'Petal Width']].plot.hist(bins=10, title='All features')\n",
        "plt.show()"
      ],
      "metadata": {
        "colab": {
          "base_uri": "https://localhost:8080/",
          "height": 281
        },
        "id": "PjhpxKVDZxDU",
        "outputId": "372df3c0-0161-40b4-e471-8cf4f4db1530"
      },
      "execution_count": 41,
      "outputs": [
        {
          "output_type": "display_data",
          "data": {
            "image/png": "[encoded data removed]",
            "text/plain": [
              "<Figure size 432x288 with 1 Axes>"
            ]
          },
          "metadata": {
            "needs_background": "light"
          }
        }
      ]
    },
    {
      "cell_type": "code",
      "source": [
        "# Plotting Boxplot\n",
        "data_set.plot.box(title=\"All Features with outliers\")\n",
        "plt.show()\n",
        "# Try noticing the 'o', those are outliers. The ones who are not in InterQuertile Range (IQR) are Outliers"
      ],
      "metadata": {
        "colab": {
          "base_uri": "https://localhost:8080/",
          "height": 281
        },
        "id": "lx0WuaRhag4b",
        "outputId": "af5b0103-5465-43b1-b0f5-7da60e2f7ef7"
      },
      "execution_count": 40,
      "outputs": [
        {
          "output_type": "display_data",
          "data": {
            "image/png": "[encoded data removed]",
            "text/plain": [
              "<Figure size 432x288 with 1 Axes>"
            ]
          },
          "metadata": {
            "needs_background": "light"
          }
        }
      ]
    }
  ]
}